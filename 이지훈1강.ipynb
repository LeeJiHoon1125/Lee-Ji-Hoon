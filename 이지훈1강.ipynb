{
  "nbformat": 4,
  "nbformat_minor": 0,
  "metadata": {
    "colab": {
      "provenance": [],
      "collapsed_sections": [],
      "authorship_tag": "ABX9TyObDv4NciudX2AoEAuYIm8j",
      "include_colab_link": true
    },
    "kernelspec": {
      "name": "python3",
      "display_name": "Python 3"
    },
    "language_info": {
      "name": "python"
    }
  },
  "cells": [
    {
      "cell_type": "markdown",
      "metadata": {
        "id": "view-in-github",
        "colab_type": "text"
      },
      "source": [
        "<a href=\"https://colab.research.google.com/github/LeeJiHoon1125/Lee-Ji-Hoon/blob/main/%EC%9D%B4%EC%A7%80%ED%9B%881%EA%B0%95.ipynb\" target=\"_parent\"><img src=\"https://colab.research.google.com/assets/colab-badge.svg\" alt=\"Open In Colab\"/></a>"
      ]
    },
    {
      "cell_type": "code",
      "execution_count": null,
      "metadata": {
        "id": "7K9GNsWYrqtx"
      },
      "outputs": [],
      "source": [
        "def greet():\n",
        "  print(\"hello world\")\n"
      ]
    },
    {
      "cell_type": "code",
      "source": [
        "greet()\n"
      ],
      "metadata": {
        "colab": {
          "base_uri": "https://localhost:8080/"
        },
        "id": "xVTHZVgqyiOF",
        "outputId": "9b16f87f-f5ac-457d-fc97-2f3c9376807f"
      },
      "execution_count": null,
      "outputs": [
        {
          "output_type": "stream",
          "name": "stdout",
          "text": [
            "hello world\n"
          ]
        }
      ]
    },
    {
      "cell_type": "code",
      "source": [
        "def add(a,b):\n",
        "  c=a+b\n",
        "  return c"
      ],
      "metadata": {
        "id": "gTdCYlOUzIe9"
      },
      "execution_count": null,
      "outputs": []
    },
    {
      "cell_type": "code",
      "source": [
        "print(add(3,7))"
      ],
      "metadata": {
        "colab": {
          "base_uri": "https://localhost:8080/"
        },
        "id": "Buce5g4SzkXj",
        "outputId": "a949cb6a-d2cc-4ab3-eab4-67f0068999d6"
      },
      "execution_count": null,
      "outputs": [
        {
          "output_type": "stream",
          "name": "stdout",
          "text": [
            "10\n"
          ]
        }
      ]
    },
    {
      "cell_type": "code",
      "source": [
        "def multipiy(a,b):\n",
        "  c=a*b\n",
        "  return c"
      ],
      "metadata": {
        "id": "wIQ5D1xO01Iz"
      },
      "execution_count": null,
      "outputs": []
    },
    {
      "cell_type": "code",
      "source": [
        "print(multipiy(2,3))"
      ],
      "metadata": {
        "colab": {
          "base_uri": "https://localhost:8080/"
        },
        "id": "cpYERO9u1cSi",
        "outputId": "f2d19639-08f3-44a3-eec6-18930518c2da"
      },
      "execution_count": null,
      "outputs": [
        {
          "output_type": "stream",
          "name": "stdout",
          "text": [
            "6\n"
          ]
        }
      ]
    },
    {
      "cell_type": "code",
      "source": [
        "def greet2(name):\n",
        "  print('반갑습니다',name)\n",
        "  print(name, '님은 파이썬의 세계로 오셨습니다')"
      ],
      "metadata": {
        "id": "pmpPP1uW3ZQF"
      },
      "execution_count": null,
      "outputs": []
    },
    {
      "cell_type": "code",
      "source": [
        "greet2('이지훈')"
      ],
      "metadata": {
        "colab": {
          "base_uri": "https://localhost:8080/"
        },
        "id": "u1uoiq1m4g99",
        "outputId": "7cd8d5c9-7c4c-469a-e379-28ce8a1ce3b5"
      },
      "execution_count": null,
      "outputs": [
        {
          "output_type": "stream",
          "name": "stdout",
          "text": [
            "반갑습니다 이지훈\n",
            "이지훈 님은 파이썬의 세계로 오셨습니다\n"
          ]
        }
      ]
    },
    {
      "cell_type": "code",
      "source": [
        "def adder(num1,num2):\n",
        "  sum=num1+num2\n",
        "  print('덧셈 결과: ',num1+num2)"
      ],
      "metadata": {
        "id": "Bp9zggsS4yoD"
      },
      "execution_count": null,
      "outputs": []
    },
    {
      "cell_type": "code",
      "source": [
        "adder(10,5)"
      ],
      "metadata": {
        "colab": {
          "base_uri": "https://localhost:8080/"
        },
        "id": "SkRofkmA5rCr",
        "outputId": "41a1f118-a2e4-41bd-c166-6068e2a2d5b3"
      },
      "execution_count": null,
      "outputs": [
        {
          "output_type": "stream",
          "name": "stdout",
          "text": [
            "덧셈 결과:  15\n"
          ]
        }
      ]
    },
    {
      "cell_type": "code",
      "source": [
        "def adder(num1,num2):\n",
        "  sum=num1+num2\n",
        "  return sum"
      ],
      "metadata": {
        "id": "fD0N5Qr36NRw"
      },
      "execution_count": null,
      "outputs": []
    },
    {
      "cell_type": "code",
      "source": [
        "result=adder(10,5)"
      ],
      "metadata": {
        "id": "bubZ-v-B7EFK"
      },
      "execution_count": null,
      "outputs": []
    },
    {
      "cell_type": "code",
      "source": [
        "print(result)"
      ],
      "metadata": {
        "colab": {
          "base_uri": "https://localhost:8080/"
        },
        "id": "kDZ7NF2G7NAS",
        "outputId": "1d2b5ce4-1455-4a6b-e6b2-438d87ff5bcf"
      },
      "execution_count": null,
      "outputs": [
        {
          "output_type": "stream",
          "name": "stdout",
          "text": [
            "15\n"
          ]
        }
      ]
    },
    {
      "cell_type": "code",
      "source": [
        "def adder(num1,num2):\n",
        "  sum=num1+num2\n",
        "  return sum"
      ],
      "metadata": {
        "id": "T8fltnPk7z9x"
      },
      "execution_count": null,
      "outputs": []
    },
    {
      "cell_type": "code",
      "source": [
        "def main():\n",
        "  print(adder(8,3))"
      ],
      "metadata": {
        "id": "sIRf1Xyn8sD4"
      },
      "execution_count": null,
      "outputs": []
    },
    {
      "cell_type": "code",
      "source": [
        "main()"
      ],
      "metadata": {
        "colab": {
          "base_uri": "https://localhost:8080/"
        },
        "id": "vU-diE2j8-mQ",
        "outputId": "b9d4982a-d434-4958-8751-d214537bc90b"
      },
      "execution_count": null,
      "outputs": [
        {
          "output_type": "stream",
          "name": "stdout",
          "text": [
            "11\n"
          ]
        }
      ]
    },
    {
      "cell_type": "code",
      "source": [
        "result=eval(input(\"뭐든 넣어요:\"))"
      ],
      "metadata": {
        "colab": {
          "base_uri": "https://localhost:8080/"
        },
        "id": "C9blSPnR9Fw4",
        "outputId": "575431a0-c419-413d-83dd-aed396398dcb"
      },
      "execution_count": null,
      "outputs": [
        {
          "name": "stdout",
          "output_type": "stream",
          "text": [
            "뭐든 넣어요:4-8+5+5+5\n"
          ]
        }
      ]
    },
    {
      "cell_type": "code",
      "source": [
        "result"
      ],
      "metadata": {
        "colab": {
          "base_uri": "https://localhost:8080/"
        },
        "id": "g8lna_H5-LB4",
        "outputId": "6dca2a65-425a-4945-b433-46dc3346238a"
      },
      "execution_count": null,
      "outputs": [
        {
          "output_type": "execute_result",
          "data": {
            "text/plain": [
              "11"
            ]
          },
          "metadata": {},
          "execution_count": 40
        }
      ]
    },
    {
      "cell_type": "code",
      "source": [
        "def ret():\n",
        "  return 12"
      ],
      "metadata": {
        "id": "TqRgoX44-XRG"
      },
      "execution_count": null,
      "outputs": []
    },
    {
      "cell_type": "code",
      "source": [
        "result=eval(input(\"뭐든 넣어요:\"))"
      ],
      "metadata": {
        "colab": {
          "base_uri": "https://localhost:8080/"
        },
        "id": "7mr02LD--e5o",
        "outputId": "0df88916-b8c1-45c6-d6fb-2cb069257500"
      },
      "execution_count": null,
      "outputs": [
        {
          "name": "stdout",
          "output_type": "stream",
          "text": [
            "뭐든 넣어요:ret()\n"
          ]
        }
      ]
    },
    {
      "cell_type": "code",
      "source": [
        "print(result)"
      ],
      "metadata": {
        "colab": {
          "base_uri": "https://localhost:8080/"
        },
        "id": "UvmEKwCp-4d1",
        "outputId": "ce36b78a-3979-48d3-e819-97245b2854ee"
      },
      "execution_count": null,
      "outputs": [
        {
          "output_type": "stream",
          "name": "stdout",
          "text": [
            "12\n"
          ]
        }
      ]
    },
    {
      "cell_type": "code",
      "source": [
        "def greet_three_times():\n",
        "  print('hi ')\n",
        "  print('hi ')\n",
        "  print('hi ')"
      ],
      "metadata": {
        "id": "mOJKoSZbAU6F"
      },
      "execution_count": null,
      "outputs": []
    },
    {
      "cell_type": "code",
      "source": [
        "greet_three_times()"
      ],
      "metadata": {
        "colab": {
          "base_uri": "https://localhost:8080/"
        },
        "id": "T93hsjZqAuYH",
        "outputId": "477b1ca0-443f-4cd7-acab-05d28b71e7d7"
      },
      "execution_count": null,
      "outputs": [
        {
          "output_type": "stream",
          "name": "stdout",
          "text": [
            "hi \n",
            "hi \n",
            "hi \n"
          ]
        }
      ]
    },
    {
      "cell_type": "code",
      "source": [
        "def greet_10(num):\n",
        "  if (num>0):\n",
        "    print('hi ')\n",
        "    num=num-1\n",
        "    greet_10(num)"
      ],
      "metadata": {
        "id": "0kWQ2eaAA3Ny"
      },
      "execution_count": null,
      "outputs": []
    },
    {
      "cell_type": "code",
      "source": [
        "greet_10(3)"
      ],
      "metadata": {
        "colab": {
          "base_uri": "https://localhost:8080/"
        },
        "id": "gh7PHHlgBa6_",
        "outputId": "71351a8a-b76f-4a38-caf1-3f4ff2871d47"
      },
      "execution_count": null,
      "outputs": [
        {
          "output_type": "stream",
          "name": "stdout",
          "text": [
            "hi \n",
            "hi \n",
            "hi \n"
          ]
        }
      ]
    },
    {
      "cell_type": "code",
      "source": [
        "sum=0\n",
        "for i in range(1,11):\n",
        "  sum=sum+i"
      ],
      "metadata": {
        "id": "CHYQeyIsBu8p"
      },
      "execution_count": null,
      "outputs": []
    },
    {
      "cell_type": "code",
      "source": [
        "import random\n",
        "NUMBER_OF_TRIALS = 5000000\n",
        "numberOfHits = 0\n",
        "for i in range(NUMBER_OF_TRIALS):\n",
        "  x = random.random() * 2 - 1\n",
        "  y = random.random() * 2 - 1\n",
        "  if x * x + y * y<= 1:\n",
        "    numberOfHits += 1\n",
        "pi = 4 * numberOfHits / NUMBER_OF_TRIALS\n",
        "print(\"PI는\", pi, \"입니다.\")"
      ],
      "metadata": {
        "id": "_iov60uWFme6",
        "colab": {
          "base_uri": "https://localhost:8080/"
        },
        "outputId": "f4d392ca-b7e0-4a5b-bfcd-0750dd5a1354"
      },
      "execution_count": null,
      "outputs": [
        {
          "output_type": "stream",
          "name": "stdout",
          "text": [
            "PI는 3.1408232 입니다.\n"
          ]
        }
      ]
    },
    {
      "cell_type": "code",
      "source": [
        "count=0\n",
        "while count < 100:\n",
        "  print(\"프로그래밍은 재미있습니다!\")\n",
        "  count = count + 1"
      ],
      "metadata": {
        "colab": {
          "base_uri": "https://localhost:8080/"
        },
        "id": "60QI-MV8IDU3",
        "outputId": "16c2af84-0e6c-4d24-9cc8-abc5485c7a40"
      },
      "execution_count": null,
      "outputs": [
        {
          "output_type": "stream",
          "name": "stdout",
          "text": [
            "프로그래밍은 재미있습니다!\n",
            "프로그래밍은 재미있습니다!\n",
            "프로그래밍은 재미있습니다!\n",
            "프로그래밍은 재미있습니다!\n",
            "프로그래밍은 재미있습니다!\n",
            "프로그래밍은 재미있습니다!\n",
            "프로그래밍은 재미있습니다!\n",
            "프로그래밍은 재미있습니다!\n",
            "프로그래밍은 재미있습니다!\n",
            "프로그래밍은 재미있습니다!\n",
            "프로그래밍은 재미있습니다!\n",
            "프로그래밍은 재미있습니다!\n",
            "프로그래밍은 재미있습니다!\n",
            "프로그래밍은 재미있습니다!\n",
            "프로그래밍은 재미있습니다!\n",
            "프로그래밍은 재미있습니다!\n",
            "프로그래밍은 재미있습니다!\n",
            "프로그래밍은 재미있습니다!\n",
            "프로그래밍은 재미있습니다!\n",
            "프로그래밍은 재미있습니다!\n",
            "프로그래밍은 재미있습니다!\n",
            "프로그래밍은 재미있습니다!\n",
            "프로그래밍은 재미있습니다!\n",
            "프로그래밍은 재미있습니다!\n",
            "프로그래밍은 재미있습니다!\n",
            "프로그래밍은 재미있습니다!\n",
            "프로그래밍은 재미있습니다!\n",
            "프로그래밍은 재미있습니다!\n",
            "프로그래밍은 재미있습니다!\n",
            "프로그래밍은 재미있습니다!\n",
            "프로그래밍은 재미있습니다!\n",
            "프로그래밍은 재미있습니다!\n",
            "프로그래밍은 재미있습니다!\n",
            "프로그래밍은 재미있습니다!\n",
            "프로그래밍은 재미있습니다!\n",
            "프로그래밍은 재미있습니다!\n",
            "프로그래밍은 재미있습니다!\n",
            "프로그래밍은 재미있습니다!\n",
            "프로그래밍은 재미있습니다!\n",
            "프로그래밍은 재미있습니다!\n",
            "프로그래밍은 재미있습니다!\n",
            "프로그래밍은 재미있습니다!\n",
            "프로그래밍은 재미있습니다!\n",
            "프로그래밍은 재미있습니다!\n",
            "프로그래밍은 재미있습니다!\n",
            "프로그래밍은 재미있습니다!\n",
            "프로그래밍은 재미있습니다!\n",
            "프로그래밍은 재미있습니다!\n",
            "프로그래밍은 재미있습니다!\n",
            "프로그래밍은 재미있습니다!\n",
            "프로그래밍은 재미있습니다!\n",
            "프로그래밍은 재미있습니다!\n",
            "프로그래밍은 재미있습니다!\n",
            "프로그래밍은 재미있습니다!\n",
            "프로그래밍은 재미있습니다!\n",
            "프로그래밍은 재미있습니다!\n",
            "프로그래밍은 재미있습니다!\n",
            "프로그래밍은 재미있습니다!\n",
            "프로그래밍은 재미있습니다!\n",
            "프로그래밍은 재미있습니다!\n",
            "프로그래밍은 재미있습니다!\n",
            "프로그래밍은 재미있습니다!\n",
            "프로그래밍은 재미있습니다!\n",
            "프로그래밍은 재미있습니다!\n",
            "프로그래밍은 재미있습니다!\n",
            "프로그래밍은 재미있습니다!\n",
            "프로그래밍은 재미있습니다!\n",
            "프로그래밍은 재미있습니다!\n",
            "프로그래밍은 재미있습니다!\n",
            "프로그래밍은 재미있습니다!\n",
            "프로그래밍은 재미있습니다!\n",
            "프로그래밍은 재미있습니다!\n",
            "프로그래밍은 재미있습니다!\n",
            "프로그래밍은 재미있습니다!\n",
            "프로그래밍은 재미있습니다!\n",
            "프로그래밍은 재미있습니다!\n",
            "프로그래밍은 재미있습니다!\n",
            "프로그래밍은 재미있습니다!\n",
            "프로그래밍은 재미있습니다!\n",
            "프로그래밍은 재미있습니다!\n",
            "프로그래밍은 재미있습니다!\n",
            "프로그래밍은 재미있습니다!\n",
            "프로그래밍은 재미있습니다!\n",
            "프로그래밍은 재미있습니다!\n",
            "프로그래밍은 재미있습니다!\n",
            "프로그래밍은 재미있습니다!\n",
            "프로그래밍은 재미있습니다!\n",
            "프로그래밍은 재미있습니다!\n",
            "프로그래밍은 재미있습니다!\n",
            "프로그래밍은 재미있습니다!\n",
            "프로그래밍은 재미있습니다!\n",
            "프로그래밍은 재미있습니다!\n",
            "프로그래밍은 재미있습니다!\n",
            "프로그래밍은 재미있습니다!\n",
            "프로그래밍은 재미있습니다!\n",
            "프로그래밍은 재미있습니다!\n",
            "프로그래밍은 재미있습니다!\n",
            "프로그래밍은 재미있습니다!\n",
            "프로그래밍은 재미있습니다!\n",
            "프로그래밍은 재미있습니다!\n"
          ]
        }
      ]
    },
    {
      "cell_type": "code",
      "source": [
        "import random\n",
        "NUMBER_OF_TRIALS = 5000000\n",
        "numberOfHits = 0\n",
        "i=0\n",
        "while (i<NUMBER_OF_TRIALS):\n",
        "    x = random.random() * 2 - 1\n",
        "    y = random.random() * 2 - 1\n",
        "    if x * x + y * y <= 1:\n",
        "        numberOfHits += 1\n",
        "    i=i+1\n",
        "pi = 4 * numberOfHits / NUMBER_OF_TRIALS\n",
        "print(\"PI는\", pi, \"입니다.\")"
      ],
      "metadata": {
        "colab": {
          "base_uri": "https://localhost:8080/"
        },
        "id": "7kA-U2-TMsXx",
        "outputId": "3fc4daad-a8bd-48ae-f99a-32c9256d38f5"
      },
      "execution_count": null,
      "outputs": [
        {
          "output_type": "stream",
          "name": "stdout",
          "text": [
            "PI는 3.1404976 입니다.\n"
          ]
        }
      ]
    },
    {
      "cell_type": "code",
      "source": [
        "x=3\n",
        "y=2\n",
        "bool(x>y)"
      ],
      "metadata": {
        "colab": {
          "base_uri": "https://localhost:8080/"
        },
        "id": "w1EMp-UacPMl",
        "outputId": "ef0f67fb-4ec8-49de-bd5a-3dd30758c9d0"
      },
      "execution_count": null,
      "outputs": [
        {
          "output_type": "execute_result",
          "data": {
            "text/plain": [
              "True"
            ]
          },
          "metadata": {},
          "execution_count": 17
        }
      ]
    },
    {
      "cell_type": "code",
      "source": [
        "x=3\n",
        "y=2\n",
        "bool(x!=y)"
      ],
      "metadata": {
        "colab": {
          "base_uri": "https://localhost:8080/"
        },
        "id": "zUsMCRqOcm87",
        "outputId": "52325910-51bd-44d0-9938-b5501d8b2373"
      },
      "execution_count": null,
      "outputs": [
        {
          "output_type": "execute_result",
          "data": {
            "text/plain": [
              "True"
            ]
          },
          "metadata": {},
          "execution_count": 18
        }
      ]
    },
    {
      "cell_type": "code",
      "source": [
        "x=3\n",
        "y=2\n",
        "bool(x==y)"
      ],
      "metadata": {
        "colab": {
          "base_uri": "https://localhost:8080/"
        },
        "id": "IQFSwxHcdCGh",
        "outputId": "6eb88906-e6bd-4018-b8f8-3b9a5062e291"
      },
      "execution_count": null,
      "outputs": [
        {
          "output_type": "execute_result",
          "data": {
            "text/plain": [
              "False"
            ]
          },
          "metadata": {},
          "execution_count": 19
        }
      ]
    },
    {
      "cell_type": "code",
      "source": [
        "x=3\n",
        "y=2\n",
        "bool(x <=y)"
      ],
      "metadata": {
        "colab": {
          "base_uri": "https://localhost:8080/"
        },
        "id": "JZCNJ0e_dko_",
        "outputId": "f81182bd-e9c9-4c77-a641-df7787c41bba"
      },
      "execution_count": null,
      "outputs": [
        {
          "output_type": "execute_result",
          "data": {
            "text/plain": [
              "False"
            ]
          },
          "metadata": {},
          "execution_count": 20
        }
      ]
    },
    {
      "cell_type": "code",
      "source": [
        "money = 2000\n",
        "if money >= 3000:\n",
        "    print(\"택시를 타고 가라\")\n",
        "    \n",
        "else:\n",
        "   print(\"걸어가라\")"
      ],
      "metadata": {
        "colab": {
          "base_uri": "https://localhost:8080/"
        },
        "id": "R-RQcG-Fdv9X",
        "outputId": "dc64ce0d-1eb4-4311-e89e-a542cb99420b"
      },
      "execution_count": null,
      "outputs": [
        {
          "output_type": "stream",
          "name": "stdout",
          "text": [
            "걸어가라\n"
          ]
        }
      ]
    },
    {
      "cell_type": "code",
      "source": [
        "money = 2000\n",
        "card = True\n",
        "if money >= 3000 or card:\n",
        "    print(\"택시를 타고 가라\")\n",
        "\n",
        "else:\n",
        "   print(\"걸어가라\")"
      ],
      "metadata": {
        "colab": {
          "base_uri": "https://localhost:8080/"
        },
        "id": "_whaYA8nfD6T",
        "outputId": "e110968d-1956-488e-e1d9-c9a0f4180b91"
      },
      "execution_count": null,
      "outputs": [
        {
          "output_type": "stream",
          "name": "stdout",
          "text": [
            "택시를 타고 가라\n"
          ]
        }
      ]
    },
    {
      "cell_type": "code",
      "source": [
        "bool(True or True)"
      ],
      "metadata": {
        "colab": {
          "base_uri": "https://localhost:8080/"
        },
        "id": "7RFrtx-zg0M9",
        "outputId": "c1dbe3fa-1da3-4c5e-b50c-ab0318f9fae0"
      },
      "execution_count": null,
      "outputs": [
        {
          "output_type": "execute_result",
          "data": {
            "text/plain": [
              "True"
            ]
          },
          "metadata": {},
          "execution_count": 23
        }
      ]
    },
    {
      "cell_type": "code",
      "source": [
        "bool(True or False)"
      ],
      "metadata": {
        "colab": {
          "base_uri": "https://localhost:8080/"
        },
        "id": "71_1gd5Shg5y",
        "outputId": "1ce66a1e-8fd9-4399-992b-e16445861794"
      },
      "execution_count": null,
      "outputs": [
        {
          "output_type": "execute_result",
          "data": {
            "text/plain": [
              "True"
            ]
          },
          "metadata": {},
          "execution_count": 24
        }
      ]
    },
    {
      "cell_type": "code",
      "source": [
        "bool(False or False)"
      ],
      "metadata": {
        "colab": {
          "base_uri": "https://localhost:8080/"
        },
        "id": "rdIBqmnXhzM6",
        "outputId": "8dc6e165-e27b-4169-ee1d-33b26a843f63"
      },
      "execution_count": null,
      "outputs": [
        {
          "output_type": "execute_result",
          "data": {
            "text/plain": [
              "False"
            ]
          },
          "metadata": {},
          "execution_count": 25
        }
      ]
    },
    {
      "cell_type": "code",
      "source": [
        "bool(not True)"
      ],
      "metadata": {
        "colab": {
          "base_uri": "https://localhost:8080/"
        },
        "id": "iTCbmLsRh7zp",
        "outputId": "29731c31-85ee-4da1-f20f-edb42ac138f8"
      },
      "execution_count": null,
      "outputs": [
        {
          "output_type": "execute_result",
          "data": {
            "text/plain": [
              "False"
            ]
          },
          "metadata": {},
          "execution_count": 26
        }
      ]
    },
    {
      "cell_type": "code",
      "source": [
        "bool(not False)"
      ],
      "metadata": {
        "colab": {
          "base_uri": "https://localhost:8080/"
        },
        "id": "jFq2L7goibiR",
        "outputId": "10e5fcf7-3eff-460b-8317-558e6b079423"
      },
      "execution_count": null,
      "outputs": [
        {
          "output_type": "execute_result",
          "data": {
            "text/plain": [
              "True"
            ]
          },
          "metadata": {},
          "execution_count": 27
        }
      ]
    },
    {
      "cell_type": "code",
      "source": [
        "bool(not (True or False))"
      ],
      "metadata": {
        "colab": {
          "base_uri": "https://localhost:8080/"
        },
        "id": "_6iNc1m7igFJ",
        "outputId": "2f6d1dd7-de2e-4966-a40b-aacccbafbbf5"
      },
      "execution_count": null,
      "outputs": [
        {
          "output_type": "execute_result",
          "data": {
            "text/plain": [
              "False"
            ]
          },
          "metadata": {},
          "execution_count": 28
        }
      ]
    },
    {
      "cell_type": "code",
      "source": [
        "bool((not True) or False)"
      ],
      "metadata": {
        "colab": {
          "base_uri": "https://localhost:8080/"
        },
        "id": "ITGJp3ZLi0iL",
        "outputId": "28cd4fbd-9851-4c6f-dcd1-37245c8a8c65"
      },
      "execution_count": null,
      "outputs": [
        {
          "output_type": "execute_result",
          "data": {
            "text/plain": [
              "False"
            ]
          },
          "metadata": {},
          "execution_count": 29
        }
      ]
    },
    {
      "cell_type": "code",
      "source": [
        "bool((not False) or False)"
      ],
      "metadata": {
        "colab": {
          "base_uri": "https://localhost:8080/"
        },
        "id": "ZPKr5NRWjFfX",
        "outputId": "731d9e7a-b14c-4bd0-daaa-fe0652c099ec"
      },
      "execution_count": null,
      "outputs": [
        {
          "output_type": "execute_result",
          "data": {
            "text/plain": [
              "True"
            ]
          },
          "metadata": {},
          "execution_count": 30
        }
      ]
    },
    {
      "cell_type": "code",
      "source": [
        "bool((not False) or False)"
      ],
      "metadata": {
        "colab": {
          "base_uri": "https://localhost:8080/"
        },
        "id": "VeMghyUOkX0C",
        "outputId": "d5be7ec2-a66c-4228-d857-ee8c4c522631"
      },
      "execution_count": null,
      "outputs": [
        {
          "output_type": "execute_result",
          "data": {
            "text/plain": [
              "True"
            ]
          },
          "metadata": {},
          "execution_count": 31
        }
      ]
    },
    {
      "cell_type": "code",
      "source": [
        "1 in(1,2,3)"
      ],
      "metadata": {
        "colab": {
          "base_uri": "https://localhost:8080/"
        },
        "id": "tQOuCnhAkmgd",
        "outputId": "f7719205-54d0-4d48-d227-efbe545c6782"
      },
      "execution_count": null,
      "outputs": [
        {
          "output_type": "execute_result",
          "data": {
            "text/plain": [
              "True"
            ]
          },
          "metadata": {},
          "execution_count": 32
        }
      ]
    },
    {
      "cell_type": "code",
      "source": [
        "1 not in(1,2,3) "
      ],
      "metadata": {
        "colab": {
          "base_uri": "https://localhost:8080/"
        },
        "id": "ewJIdKdIlc0n",
        "outputId": "d197c0ab-c810-467d-cd38-7c2c16ece412"
      },
      "execution_count": null,
      "outputs": [
        {
          "output_type": "execute_result",
          "data": {
            "text/plain": [
              "False"
            ]
          },
          "metadata": {},
          "execution_count": 33
        }
      ]
    },
    {
      "cell_type": "code",
      "source": [
        "pocket = ('paper', 'cellphone', 'money')\n",
        "if 'money'in pocket:\n",
        "     print(\"택시를 타고 가라\")\n",
        "else:\n",
        "   print(\"걸어가라\")"
      ],
      "metadata": {
        "colab": {
          "base_uri": "https://localhost:8080/"
        },
        "id": "1AZucyldlnen",
        "outputId": "6bc129b8-2b45-4445-e0a0-daaad258f4be"
      },
      "execution_count": null,
      "outputs": [
        {
          "output_type": "stream",
          "name": "stdout",
          "text": [
            "택시를 타고 가라\n"
          ]
        }
      ]
    },
    {
      "cell_type": "code",
      "source": [
        "pocket = ('paper', 'money', 'cellphone')\n",
        "if'money' in pocket:\n",
        "   pass\n",
        "else:\n",
        "    print(\"카드를 꺼내라\")"
      ],
      "metadata": {
        "id": "iPtmOr4iqVm_"
      },
      "execution_count": null,
      "outputs": []
    },
    {
      "cell_type": "code",
      "source": [
        "if (3>2): \n",
        "else:\n",
        "    print('hello')"
      ],
      "metadata": {
        "colab": {
          "base_uri": "https://localhost:8080/",
          "height": 136
        },
        "id": "DKCVgE1isIOv",
        "outputId": "fd56e2d0-b054-4497-be57-27dc02f1c1e6"
      },
      "execution_count": null,
      "outputs": [
        {
          "output_type": "error",
          "ename": "IndentationError",
          "evalue": "ignored",
          "traceback": [
            "\u001b[0;36m  File \u001b[0;32m\"<ipython-input-36-8936dc3e1717>\"\u001b[0;36m, line \u001b[0;32m2\u001b[0m\n\u001b[0;31m    else:\u001b[0m\n\u001b[0m       ^\u001b[0m\n\u001b[0;31mIndentationError\u001b[0m\u001b[0;31m:\u001b[0m expected an indented block\n"
          ]
        }
      ]
    },
    {
      "cell_type": "code",
      "source": [
        "pocket = ('paper', 'handphone')\n",
        "card = True\n",
        "if 'money' in pocket:\n",
        "     print(\"택시를 타고가라\")\n",
        "else:\n",
        "   if card:\n",
        "        print(\"택시를 타고가라\")\n",
        "   else:\n",
        "       print(\"걸어가라\")"
      ],
      "metadata": {
        "id": "xDBssC31tAw5",
        "colab": {
          "base_uri": "https://localhost:8080/"
        },
        "outputId": "396d1364-7e69-40cb-b1bb-5a7b6051b86b"
      },
      "execution_count": null,
      "outputs": [
        {
          "output_type": "stream",
          "name": "stdout",
          "text": [
            "택시를 타고가라\n"
          ]
        }
      ]
    },
    {
      "cell_type": "code",
      "source": [
        "pocket = ('paper', 'cellphone')\n",
        "card = True\n",
        "if 'money' in pocket:\n",
        "    print(\"택시를 타고가라\")\n",
        "elif card:\n",
        "    print(\"택시를 타고가라\")\n",
        "else:\n",
        "   print(\"걸어가라\")"
      ],
      "metadata": {
        "colab": {
          "base_uri": "https://localhost:8080/"
        },
        "id": "MmyH7WXXe4re",
        "outputId": "4a6e285d-7a28-418c-d55c-d91a1cc34406"
      },
      "execution_count": null,
      "outputs": [
        {
          "output_type": "stream",
          "name": "stdout",
          "text": [
            "택시를 타고가라\n"
          ]
        }
      ]
    },
    {
      "cell_type": "code",
      "source": [
        "if score >= 60:\n",
        "     message = \"success\"\n",
        "else:\n",
        "     message = \"failure\"\n",
        "\n",
        "message = \"success\" if score >= 60 else \"failure\""
      ],
      "metadata": {
        "colab": {
          "base_uri": "https://localhost:8080/",
          "height": 245
        },
        "id": "LlzGSOPCgGz8",
        "outputId": "5b71d145-59f1-4a95-8d47-9c6420a0388d"
      },
      "execution_count": 1,
      "outputs": [
        {
          "output_type": "error",
          "ename": "NameError",
          "evalue": "ignored",
          "traceback": [
            "\u001b[0;31m---------------------------------------------------------------------------\u001b[0m",
            "\u001b[0;31mNameError\u001b[0m                                 Traceback (most recent call last)",
            "\u001b[0;32m<ipython-input-1-55e30a2434e3>\u001b[0m in \u001b[0;36m<module>\u001b[0;34m\u001b[0m\n\u001b[0;32m----> 1\u001b[0;31m \u001b[0;32mif\u001b[0m \u001b[0mscore\u001b[0m \u001b[0;34m>=\u001b[0m \u001b[0;36m60\u001b[0m\u001b[0;34m:\u001b[0m\u001b[0;34m\u001b[0m\u001b[0;34m\u001b[0m\u001b[0m\n\u001b[0m\u001b[1;32m      2\u001b[0m      \u001b[0mmessage\u001b[0m \u001b[0;34m=\u001b[0m \u001b[0;34m\"success\"\u001b[0m\u001b[0;34m\u001b[0m\u001b[0;34m\u001b[0m\u001b[0m\n\u001b[1;32m      3\u001b[0m \u001b[0;32melse\u001b[0m\u001b[0;34m:\u001b[0m\u001b[0;34m\u001b[0m\u001b[0;34m\u001b[0m\u001b[0m\n\u001b[1;32m      4\u001b[0m      \u001b[0mmessage\u001b[0m \u001b[0;34m=\u001b[0m \u001b[0;34m\"failure\"\u001b[0m\u001b[0;34m\u001b[0m\u001b[0;34m\u001b[0m\u001b[0m\n\u001b[1;32m      5\u001b[0m \u001b[0;34m\u001b[0m\u001b[0m\n",
            "\u001b[0;31mNameError\u001b[0m: name 'score' is not defined"
          ]
        }
      ]
    }
  ]
}